{
  "nbformat": 4,
  "nbformat_minor": 0,
  "metadata": {
    "colab": {
      "name": "linear_regression_tf_lite.ipynb",
      "provenance": [],
      "collapsed_sections": [],
      "authorship_tag": "ABX9TyMoscmYGXxcVDce71yUqC3v",
      "include_colab_link": true
    },
    "kernelspec": {
      "name": "python3",
      "display_name": "Python 3"
    }
  },
  "cells": [
    {
      "cell_type": "markdown",
      "metadata": {
        "id": "view-in-github",
        "colab_type": "text"
      },
      "source": [
        "<a href=\"https://colab.research.google.com/github/jayeshmanani/TensorFlow/blob/master/linear_regression_tf_lite.ipynb\" target=\"_parent\"><img src=\"https://colab.research.google.com/assets/colab-badge.svg\" alt=\"Open In Colab\"/></a>"
      ]
    },
    {
      "cell_type": "code",
      "metadata": {
        "id": "YAmE2gmFb0nR",
        "colab_type": "code",
        "colab": {
          "base_uri": "https://localhost:8080/",
          "height": 68
        },
        "outputId": "753dd683-8414-4abb-f611-afadb662c862"
      },
      "source": [
        "!pip install -q -U \"tensorflow-gpu==2.0.0b1\""
      ],
      "execution_count": 1,
      "outputs": [
        {
          "output_type": "stream",
          "text": [
            "\u001b[K     |████████████████████████████████| 348.9MB 41kB/s \n",
            "\u001b[K     |████████████████████████████████| 3.1MB 39.3MB/s \n",
            "\u001b[K     |████████████████████████████████| 501kB 56.9MB/s \n",
            "\u001b[?25h"
          ],
          "name": "stdout"
        }
      ]
    },
    {
      "cell_type": "code",
      "metadata": {
        "id": "TopY0jwPcFHx",
        "colab_type": "code",
        "colab": {}
      },
      "source": [
        "%matplotlib inline\n",
        "\n",
        "import pathlib\n",
        "import numpy as np\n",
        "import matplotlib.pyplot as plt\n",
        "\n",
        "import tensorflow as tf\n",
        "from tensorflow.keras.models import Model \n",
        "from tensorflow.keras.layers import Input\n",
        "\n",
        "from google.colab import files"
      ],
      "execution_count": 0,
      "outputs": []
    },
    {
      "cell_type": "markdown",
      "metadata": {
        "id": "0OFRFoC8c22P",
        "colab_type": "text"
      },
      "source": [
        "### Create a basic model of form y = mx + c"
      ]
    },
    {
      "cell_type": "code",
      "metadata": {
        "id": "MEqGxA-jcylC",
        "colab_type": "code",
        "colab": {
          "base_uri": "https://localhost:8080/",
          "height": 1000
        },
        "outputId": "af211505-7e65-4f73-affc-cf5e0590e1d9"
      },
      "source": [
        "# create a basic keras model\n",
        "x = [-1,0,1,2,3,4]\n",
        "y = [-3,-1,1,3,5,7]\n",
        "\n",
        "model = tf.keras.models.Sequential([\n",
        "                                    tf.keras.layers.Dense(units=1,input_shape = [1])\n",
        "])\n",
        "model.compile(optimizer='sgd', loss='mean_squared_error')\n",
        "model.fit(x,y,epochs=200)"
      ],
      "execution_count": 4,
      "outputs": [
        {
          "output_type": "stream",
          "text": [
            "Train on 6 samples\n",
            "Epoch 1/200\n",
            "6/6 [==============================] - 0s 14ms/sample - loss: 13.6345\n",
            "Epoch 2/200\n",
            "6/6 [==============================] - 0s 496us/sample - loss: 10.9595\n",
            "Epoch 3/200\n",
            "6/6 [==============================] - 0s 377us/sample - loss: 8.8502\n",
            "Epoch 4/200\n",
            "6/6 [==============================] - 0s 299us/sample - loss: 7.1861\n",
            "Epoch 5/200\n",
            "6/6 [==============================] - 0s 420us/sample - loss: 5.8722\n",
            "Epoch 6/200\n",
            "6/6 [==============================] - 0s 466us/sample - loss: 4.8340\n",
            "Epoch 7/200\n",
            "6/6 [==============================] - 0s 334us/sample - loss: 4.0128\n",
            "Epoch 8/200\n",
            "6/6 [==============================] - 0s 338us/sample - loss: 3.3624\n",
            "Epoch 9/200\n",
            "6/6 [==============================] - 0s 310us/sample - loss: 2.8465\n",
            "Epoch 10/200\n",
            "6/6 [==============================] - 0s 318us/sample - loss: 2.4365\n",
            "Epoch 11/200\n",
            "6/6 [==============================] - 0s 317us/sample - loss: 2.1099\n",
            "Epoch 12/200\n",
            "6/6 [==============================] - 0s 261us/sample - loss: 1.8489\n",
            "Epoch 13/200\n",
            "6/6 [==============================] - 0s 493us/sample - loss: 1.6397\n",
            "Epoch 14/200\n",
            "6/6 [==============================] - 0s 274us/sample - loss: 1.4714\n",
            "Epoch 15/200\n",
            "6/6 [==============================] - 0s 1ms/sample - loss: 1.3352\n",
            "Epoch 16/200\n",
            "6/6 [==============================] - 0s 1ms/sample - loss: 1.2244\n",
            "Epoch 17/200\n",
            "6/6 [==============================] - 0s 783us/sample - loss: 1.1336\n",
            "Epoch 18/200\n",
            "6/6 [==============================] - 0s 516us/sample - loss: 1.0588\n",
            "Epoch 19/200\n",
            "6/6 [==============================] - 0s 470us/sample - loss: 0.9964\n",
            "Epoch 20/200\n",
            "6/6 [==============================] - 0s 478us/sample - loss: 0.9440\n",
            "Epoch 21/200\n",
            "6/6 [==============================] - 0s 420us/sample - loss: 0.8995\n",
            "Epoch 22/200\n",
            "6/6 [==============================] - 0s 591us/sample - loss: 0.8612\n",
            "Epoch 23/200\n",
            "6/6 [==============================] - 0s 492us/sample - loss: 0.8280\n",
            "Epoch 24/200\n",
            "6/6 [==============================] - 0s 433us/sample - loss: 0.7987\n",
            "Epoch 25/200\n",
            "6/6 [==============================] - 0s 352us/sample - loss: 0.7727\n",
            "Epoch 26/200\n",
            "6/6 [==============================] - 0s 434us/sample - loss: 0.7493\n",
            "Epoch 27/200\n",
            "6/6 [==============================] - 0s 301us/sample - loss: 0.7279\n",
            "Epoch 28/200\n",
            "6/6 [==============================] - 0s 579us/sample - loss: 0.7083\n",
            "Epoch 29/200\n",
            "6/6 [==============================] - 0s 462us/sample - loss: 0.6900\n",
            "Epoch 30/200\n",
            "6/6 [==============================] - 0s 541us/sample - loss: 0.6729\n",
            "Epoch 31/200\n",
            "6/6 [==============================] - 0s 351us/sample - loss: 0.6568\n",
            "Epoch 32/200\n",
            "6/6 [==============================] - 0s 426us/sample - loss: 0.6416\n",
            "Epoch 33/200\n",
            "6/6 [==============================] - 0s 907us/sample - loss: 0.6270\n",
            "Epoch 34/200\n",
            "6/6 [==============================] - 0s 468us/sample - loss: 0.6130\n",
            "Epoch 35/200\n",
            "6/6 [==============================] - 0s 637us/sample - loss: 0.5995\n",
            "Epoch 36/200\n",
            "6/6 [==============================] - 0s 541us/sample - loss: 0.5865\n",
            "Epoch 37/200\n",
            "6/6 [==============================] - 0s 456us/sample - loss: 0.5739\n",
            "Epoch 38/200\n",
            "6/6 [==============================] - 0s 393us/sample - loss: 0.5617\n",
            "Epoch 39/200\n",
            "6/6 [==============================] - 0s 340us/sample - loss: 0.5498\n",
            "Epoch 40/200\n",
            "6/6 [==============================] - 0s 318us/sample - loss: 0.5383\n",
            "Epoch 41/200\n",
            "6/6 [==============================] - 0s 466us/sample - loss: 0.5270\n",
            "Epoch 42/200\n",
            "6/6 [==============================] - 0s 350us/sample - loss: 0.5160\n",
            "Epoch 43/200\n",
            "6/6 [==============================] - 0s 403us/sample - loss: 0.5053\n",
            "Epoch 44/200\n",
            "6/6 [==============================] - 0s 430us/sample - loss: 0.4948\n",
            "Epoch 45/200\n",
            "6/6 [==============================] - 0s 490us/sample - loss: 0.4846\n",
            "Epoch 46/200\n",
            "6/6 [==============================] - 0s 420us/sample - loss: 0.4746\n",
            "Epoch 47/200\n",
            "6/6 [==============================] - 0s 502us/sample - loss: 0.4648\n",
            "Epoch 48/200\n",
            "6/6 [==============================] - 0s 548us/sample - loss: 0.4552\n",
            "Epoch 49/200\n",
            "6/6 [==============================] - 0s 442us/sample - loss: 0.4458\n",
            "Epoch 50/200\n",
            "6/6 [==============================] - 0s 418us/sample - loss: 0.4366\n",
            "Epoch 51/200\n",
            "6/6 [==============================] - 0s 628us/sample - loss: 0.4276\n",
            "Epoch 52/200\n",
            "6/6 [==============================] - 0s 488us/sample - loss: 0.4188\n",
            "Epoch 53/200\n",
            "6/6 [==============================] - 0s 534us/sample - loss: 0.4102\n",
            "Epoch 54/200\n",
            "6/6 [==============================] - 0s 450us/sample - loss: 0.4018\n",
            "Epoch 55/200\n",
            "6/6 [==============================] - 0s 437us/sample - loss: 0.3935\n",
            "Epoch 56/200\n",
            "6/6 [==============================] - 0s 367us/sample - loss: 0.3854\n",
            "Epoch 57/200\n",
            "6/6 [==============================] - 0s 418us/sample - loss: 0.3775\n",
            "Epoch 58/200\n",
            "6/6 [==============================] - 0s 421us/sample - loss: 0.3697\n",
            "Epoch 59/200\n",
            "6/6 [==============================] - 0s 395us/sample - loss: 0.3621\n",
            "Epoch 60/200\n",
            "6/6 [==============================] - 0s 425us/sample - loss: 0.3547\n",
            "Epoch 61/200\n",
            "6/6 [==============================] - 0s 392us/sample - loss: 0.3474\n",
            "Epoch 62/200\n",
            "6/6 [==============================] - 0s 473us/sample - loss: 0.3403\n",
            "Epoch 63/200\n",
            "6/6 [==============================] - 0s 384us/sample - loss: 0.3333\n",
            "Epoch 64/200\n",
            "6/6 [==============================] - 0s 377us/sample - loss: 0.3264\n",
            "Epoch 65/200\n",
            "6/6 [==============================] - 0s 376us/sample - loss: 0.3197\n",
            "Epoch 66/200\n",
            "6/6 [==============================] - 0s 517us/sample - loss: 0.3132\n",
            "Epoch 67/200\n",
            "6/6 [==============================] - 0s 454us/sample - loss: 0.3067\n",
            "Epoch 68/200\n",
            "6/6 [==============================] - 0s 448us/sample - loss: 0.3004\n",
            "Epoch 69/200\n",
            "6/6 [==============================] - 0s 422us/sample - loss: 0.2943\n",
            "Epoch 70/200\n",
            "6/6 [==============================] - 0s 370us/sample - loss: 0.2882\n",
            "Epoch 71/200\n",
            "6/6 [==============================] - 0s 419us/sample - loss: 0.2823\n",
            "Epoch 72/200\n",
            "6/6 [==============================] - 0s 442us/sample - loss: 0.2765\n",
            "Epoch 73/200\n",
            "6/6 [==============================] - 0s 389us/sample - loss: 0.2708\n",
            "Epoch 74/200\n",
            "6/6 [==============================] - 0s 419us/sample - loss: 0.2653\n",
            "Epoch 75/200\n",
            "6/6 [==============================] - 0s 515us/sample - loss: 0.2598\n",
            "Epoch 76/200\n",
            "6/6 [==============================] - 0s 358us/sample - loss: 0.2545\n",
            "Epoch 77/200\n",
            "6/6 [==============================] - 0s 457us/sample - loss: 0.2492\n",
            "Epoch 78/200\n",
            "6/6 [==============================] - 0s 505us/sample - loss: 0.2441\n",
            "Epoch 79/200\n",
            "6/6 [==============================] - 0s 500us/sample - loss: 0.2391\n",
            "Epoch 80/200\n",
            "6/6 [==============================] - 0s 474us/sample - loss: 0.2342\n",
            "Epoch 81/200\n",
            "6/6 [==============================] - 0s 610us/sample - loss: 0.2294\n",
            "Epoch 82/200\n",
            "6/6 [==============================] - 0s 347us/sample - loss: 0.2247\n",
            "Epoch 83/200\n",
            "6/6 [==============================] - 0s 408us/sample - loss: 0.2201\n",
            "Epoch 84/200\n",
            "6/6 [==============================] - 0s 350us/sample - loss: 0.2155\n",
            "Epoch 85/200\n",
            "6/6 [==============================] - 0s 437us/sample - loss: 0.2111\n",
            "Epoch 86/200\n",
            "6/6 [==============================] - 0s 437us/sample - loss: 0.2068\n",
            "Epoch 87/200\n",
            "6/6 [==============================] - 0s 336us/sample - loss: 0.2025\n",
            "Epoch 88/200\n",
            "6/6 [==============================] - 0s 439us/sample - loss: 0.1984\n",
            "Epoch 89/200\n",
            "6/6 [==============================] - 0s 362us/sample - loss: 0.1943\n",
            "Epoch 90/200\n",
            "6/6 [==============================] - 0s 630us/sample - loss: 0.1903\n",
            "Epoch 91/200\n",
            "6/6 [==============================] - 0s 417us/sample - loss: 0.1864\n",
            "Epoch 92/200\n",
            "6/6 [==============================] - 0s 622us/sample - loss: 0.1826\n",
            "Epoch 93/200\n",
            "6/6 [==============================] - 0s 1ms/sample - loss: 0.1788\n",
            "Epoch 94/200\n",
            "6/6 [==============================] - 0s 344us/sample - loss: 0.1751\n",
            "Epoch 95/200\n",
            "6/6 [==============================] - 0s 306us/sample - loss: 0.1715\n",
            "Epoch 96/200\n",
            "6/6 [==============================] - 0s 307us/sample - loss: 0.1680\n",
            "Epoch 97/200\n",
            "6/6 [==============================] - 0s 367us/sample - loss: 0.1646\n",
            "Epoch 98/200\n",
            "6/6 [==============================] - 0s 525us/sample - loss: 0.1612\n",
            "Epoch 99/200\n",
            "6/6 [==============================] - 0s 396us/sample - loss: 0.1579\n",
            "Epoch 100/200\n",
            "6/6 [==============================] - 0s 410us/sample - loss: 0.1546\n",
            "Epoch 101/200\n",
            "6/6 [==============================] - 0s 329us/sample - loss: 0.1515\n",
            "Epoch 102/200\n",
            "6/6 [==============================] - 0s 418us/sample - loss: 0.1484\n",
            "Epoch 103/200\n",
            "6/6 [==============================] - 0s 385us/sample - loss: 0.1453\n",
            "Epoch 104/200\n",
            "6/6 [==============================] - 0s 393us/sample - loss: 0.1423\n",
            "Epoch 105/200\n",
            "6/6 [==============================] - 0s 312us/sample - loss: 0.1394\n",
            "Epoch 106/200\n",
            "6/6 [==============================] - 0s 328us/sample - loss: 0.1365\n",
            "Epoch 107/200\n",
            "6/6 [==============================] - 0s 409us/sample - loss: 0.1337\n",
            "Epoch 108/200\n",
            "6/6 [==============================] - 0s 432us/sample - loss: 0.1310\n",
            "Epoch 109/200\n",
            "6/6 [==============================] - 0s 362us/sample - loss: 0.1283\n",
            "Epoch 110/200\n",
            "6/6 [==============================] - 0s 480us/sample - loss: 0.1257\n",
            "Epoch 111/200\n",
            "6/6 [==============================] - 0s 333us/sample - loss: 0.1231\n",
            "Epoch 112/200\n",
            "6/6 [==============================] - 0s 462us/sample - loss: 0.1205\n",
            "Epoch 113/200\n",
            "6/6 [==============================] - 0s 379us/sample - loss: 0.1181\n",
            "Epoch 114/200\n",
            "6/6 [==============================] - 0s 430us/sample - loss: 0.1156\n",
            "Epoch 115/200\n",
            "6/6 [==============================] - 0s 372us/sample - loss: 0.1133\n",
            "Epoch 116/200\n",
            "6/6 [==============================] - 0s 391us/sample - loss: 0.1109\n",
            "Epoch 117/200\n",
            "6/6 [==============================] - 0s 390us/sample - loss: 0.1087\n",
            "Epoch 118/200\n",
            "6/6 [==============================] - 0s 327us/sample - loss: 0.1064\n",
            "Epoch 119/200\n",
            "6/6 [==============================] - 0s 374us/sample - loss: 0.1042\n",
            "Epoch 120/200\n",
            "6/6 [==============================] - 0s 421us/sample - loss: 0.1021\n",
            "Epoch 121/200\n",
            "6/6 [==============================] - 0s 410us/sample - loss: 0.1000\n",
            "Epoch 122/200\n",
            "6/6 [==============================] - 0s 413us/sample - loss: 0.0980\n",
            "Epoch 123/200\n",
            "6/6 [==============================] - 0s 339us/sample - loss: 0.0959\n",
            "Epoch 124/200\n",
            "6/6 [==============================] - 0s 370us/sample - loss: 0.0940\n",
            "Epoch 125/200\n",
            "6/6 [==============================] - 0s 333us/sample - loss: 0.0920\n",
            "Epoch 126/200\n",
            "6/6 [==============================] - 0s 318us/sample - loss: 0.0901\n",
            "Epoch 127/200\n",
            "6/6 [==============================] - 0s 359us/sample - loss: 0.0883\n",
            "Epoch 128/200\n",
            "6/6 [==============================] - 0s 467us/sample - loss: 0.0865\n",
            "Epoch 129/200\n",
            "6/6 [==============================] - 0s 2ms/sample - loss: 0.0847\n",
            "Epoch 130/200\n",
            "6/6 [==============================] - 0s 1ms/sample - loss: 0.0830\n",
            "Epoch 131/200\n",
            "6/6 [==============================] - 0s 908us/sample - loss: 0.0813\n",
            "Epoch 132/200\n",
            "6/6 [==============================] - 0s 397us/sample - loss: 0.0796\n",
            "Epoch 133/200\n",
            "6/6 [==============================] - 0s 545us/sample - loss: 0.0780\n",
            "Epoch 134/200\n",
            "6/6 [==============================] - 0s 436us/sample - loss: 0.0764\n",
            "Epoch 135/200\n",
            "6/6 [==============================] - 0s 497us/sample - loss: 0.0748\n",
            "Epoch 136/200\n",
            "6/6 [==============================] - 0s 555us/sample - loss: 0.0733\n",
            "Epoch 137/200\n",
            "6/6 [==============================] - 0s 499us/sample - loss: 0.0717\n",
            "Epoch 138/200\n",
            "6/6 [==============================] - 0s 524us/sample - loss: 0.0703\n",
            "Epoch 139/200\n",
            "6/6 [==============================] - 0s 541us/sample - loss: 0.0688\n",
            "Epoch 140/200\n",
            "6/6 [==============================] - 0s 388us/sample - loss: 0.0674\n",
            "Epoch 141/200\n",
            "6/6 [==============================] - 0s 435us/sample - loss: 0.0660\n",
            "Epoch 142/200\n",
            "6/6 [==============================] - 0s 549us/sample - loss: 0.0647\n",
            "Epoch 143/200\n",
            "6/6 [==============================] - 0s 541us/sample - loss: 0.0633\n",
            "Epoch 144/200\n",
            "6/6 [==============================] - 0s 410us/sample - loss: 0.0620\n",
            "Epoch 145/200\n",
            "6/6 [==============================] - 0s 383us/sample - loss: 0.0608\n",
            "Epoch 146/200\n",
            "6/6 [==============================] - 0s 434us/sample - loss: 0.0595\n",
            "Epoch 147/200\n",
            "6/6 [==============================] - 0s 408us/sample - loss: 0.0583\n",
            "Epoch 148/200\n",
            "6/6 [==============================] - 0s 381us/sample - loss: 0.0571\n",
            "Epoch 149/200\n",
            "6/6 [==============================] - 0s 442us/sample - loss: 0.0559\n",
            "Epoch 150/200\n",
            "6/6 [==============================] - 0s 382us/sample - loss: 0.0548\n",
            "Epoch 151/200\n",
            "6/6 [==============================] - 0s 377us/sample - loss: 0.0537\n",
            "Epoch 152/200\n",
            "6/6 [==============================] - 0s 346us/sample - loss: 0.0526\n",
            "Epoch 153/200\n",
            "6/6 [==============================] - 0s 345us/sample - loss: 0.0515\n",
            "Epoch 154/200\n",
            "6/6 [==============================] - 0s 327us/sample - loss: 0.0504\n",
            "Epoch 155/200\n",
            "6/6 [==============================] - 0s 330us/sample - loss: 0.0494\n",
            "Epoch 156/200\n",
            "6/6 [==============================] - 0s 438us/sample - loss: 0.0484\n",
            "Epoch 157/200\n",
            "6/6 [==============================] - 0s 353us/sample - loss: 0.0474\n",
            "Epoch 158/200\n",
            "6/6 [==============================] - 0s 356us/sample - loss: 0.0464\n",
            "Epoch 159/200\n",
            "6/6 [==============================] - 0s 332us/sample - loss: 0.0454\n",
            "Epoch 160/200\n",
            "6/6 [==============================] - 0s 348us/sample - loss: 0.0445\n",
            "Epoch 161/200\n",
            "6/6 [==============================] - 0s 376us/sample - loss: 0.0436\n",
            "Epoch 162/200\n",
            "6/6 [==============================] - 0s 338us/sample - loss: 0.0427\n",
            "Epoch 163/200\n",
            "6/6 [==============================] - 0s 333us/sample - loss: 0.0418\n",
            "Epoch 164/200\n",
            "6/6 [==============================] - 0s 381us/sample - loss: 0.0410\n",
            "Epoch 165/200\n",
            "6/6 [==============================] - 0s 336us/sample - loss: 0.0401\n",
            "Epoch 166/200\n",
            "6/6 [==============================] - 0s 349us/sample - loss: 0.0393\n",
            "Epoch 167/200\n",
            "6/6 [==============================] - 0s 354us/sample - loss: 0.0385\n",
            "Epoch 168/200\n",
            "6/6 [==============================] - 0s 418us/sample - loss: 0.0377\n",
            "Epoch 169/200\n",
            "6/6 [==============================] - 0s 480us/sample - loss: 0.0369\n",
            "Epoch 170/200\n",
            "6/6 [==============================] - 0s 347us/sample - loss: 0.0362\n",
            "Epoch 171/200\n",
            "6/6 [==============================] - 0s 345us/sample - loss: 0.0354\n",
            "Epoch 172/200\n",
            "6/6 [==============================] - 0s 333us/sample - loss: 0.0347\n",
            "Epoch 173/200\n",
            "6/6 [==============================] - 0s 432us/sample - loss: 0.0340\n",
            "Epoch 174/200\n",
            "6/6 [==============================] - 0s 371us/sample - loss: 0.0333\n",
            "Epoch 175/200\n",
            "6/6 [==============================] - 0s 353us/sample - loss: 0.0326\n",
            "Epoch 176/200\n",
            "6/6 [==============================] - 0s 350us/sample - loss: 0.0319\n",
            "Epoch 177/200\n",
            "6/6 [==============================] - 0s 457us/sample - loss: 0.0313\n",
            "Epoch 178/200\n",
            "6/6 [==============================] - 0s 497us/sample - loss: 0.0306\n",
            "Epoch 179/200\n",
            "6/6 [==============================] - 0s 459us/sample - loss: 0.0300\n",
            "Epoch 180/200\n",
            "6/6 [==============================] - 0s 379us/sample - loss: 0.0294\n",
            "Epoch 181/200\n",
            "6/6 [==============================] - 0s 534us/sample - loss: 0.0288\n",
            "Epoch 182/200\n",
            "6/6 [==============================] - 0s 528us/sample - loss: 0.0282\n",
            "Epoch 183/200\n",
            "6/6 [==============================] - 0s 390us/sample - loss: 0.0276\n",
            "Epoch 184/200\n",
            "6/6 [==============================] - 0s 384us/sample - loss: 0.0271\n",
            "Epoch 185/200\n",
            "6/6 [==============================] - 0s 388us/sample - loss: 0.0265\n",
            "Epoch 186/200\n",
            "6/6 [==============================] - 0s 583us/sample - loss: 0.0260\n",
            "Epoch 187/200\n",
            "6/6 [==============================] - 0s 454us/sample - loss: 0.0254\n",
            "Epoch 188/200\n",
            "6/6 [==============================] - 0s 487us/sample - loss: 0.0249\n",
            "Epoch 189/200\n",
            "6/6 [==============================] - 0s 455us/sample - loss: 0.0244\n",
            "Epoch 190/200\n",
            "6/6 [==============================] - 0s 500us/sample - loss: 0.0239\n",
            "Epoch 191/200\n",
            "6/6 [==============================] - 0s 476us/sample - loss: 0.0234\n",
            "Epoch 192/200\n",
            "6/6 [==============================] - 0s 424us/sample - loss: 0.0229\n",
            "Epoch 193/200\n",
            "6/6 [==============================] - 0s 472us/sample - loss: 0.0224\n",
            "Epoch 194/200\n",
            "6/6 [==============================] - 0s 443us/sample - loss: 0.0220\n",
            "Epoch 195/200\n",
            "6/6 [==============================] - 0s 472us/sample - loss: 0.0215\n",
            "Epoch 196/200\n",
            "6/6 [==============================] - 0s 483us/sample - loss: 0.0211\n",
            "Epoch 197/200\n",
            "6/6 [==============================] - 0s 319us/sample - loss: 0.0207\n",
            "Epoch 198/200\n",
            "6/6 [==============================] - 0s 513us/sample - loss: 0.0202\n",
            "Epoch 199/200\n",
            "6/6 [==============================] - 0s 436us/sample - loss: 0.0198\n",
            "Epoch 200/200\n",
            "6/6 [==============================] - 0s 327us/sample - loss: 0.0194\n"
          ],
          "name": "stdout"
        },
        {
          "output_type": "execute_result",
          "data": {
            "text/plain": [
              "<tensorflow.python.keras.callbacks.History at 0x7f8e8d87b6a0>"
            ]
          },
          "metadata": {
            "tags": []
          },
          "execution_count": 4
        }
      ]
    },
    {
      "cell_type": "markdown",
      "metadata": {
        "id": "JSprnlddedF2",
        "colab_type": "text"
      },
      "source": [
        "### Generate a SavedModel"
      ]
    },
    {
      "cell_type": "code",
      "metadata": {
        "id": "26RjwdShd15_",
        "colab_type": "code",
        "colab": {
          "base_uri": "https://localhost:8080/",
          "height": 34
        },
        "outputId": "92da4912-a047-4761-9b1e-b55875033ef3"
      },
      "source": [
        "export_dir = 'saved_model/1'\n",
        "tf.saved_model.save(model, export_dir)"
      ],
      "execution_count": 5,
      "outputs": [
        {
          "output_type": "stream",
          "text": [
            "INFO:tensorflow:Assets written to: saved_model/1/assets\n"
          ],
          "name": "stdout"
        }
      ]
    },
    {
      "cell_type": "markdown",
      "metadata": {
        "id": "_q3luHe9eyoM",
        "colab_type": "text"
      },
      "source": [
        "### Convert a saved model to TFLite model"
      ]
    },
    {
      "cell_type": "code",
      "metadata": {
        "id": "KxBSxi4neuOo",
        "colab_type": "code",
        "colab": {
          "base_uri": "https://localhost:8080/",
          "height": 34
        },
        "outputId": "9a1f4c97-86ec-4d5a-938b-3c87ecd1ff2a"
      },
      "source": [
        "# convert the model\n",
        "converter = tf.lite.TFLiteConverter.from_saved_model(export_dir)\n",
        "tflite_model = converter.convert()"
      ],
      "execution_count": 6,
      "outputs": [
        {
          "output_type": "stream",
          "text": [
            "INFO:tensorflow:Converted 2 variables to const ops.\n"
          ],
          "name": "stdout"
        }
      ]
    },
    {
      "cell_type": "code",
      "metadata": {
        "id": "CeYYZVGbfG2B",
        "colab_type": "code",
        "colab": {
          "base_uri": "https://localhost:8080/",
          "height": 34
        },
        "outputId": "07d616bc-9b8f-46cf-dd5f-8b04382b0163"
      },
      "source": [
        "tflite_model_file = pathlib.Path(\"/content/model.tflite\")\n",
        "tflite_model_file.write_bytes(tflite_model)"
      ],
      "execution_count": 7,
      "outputs": [
        {
          "output_type": "execute_result",
          "data": {
            "text/plain": [
              "692"
            ]
          },
          "metadata": {
            "tags": []
          },
          "execution_count": 7
        }
      ]
    },
    {
      "cell_type": "markdown",
      "metadata": {
        "id": "Adjiu_l3fbxS",
        "colab_type": "text"
      },
      "source": [
        "### initialize the TFLite interpreter to try it out"
      ]
    },
    {
      "cell_type": "code",
      "metadata": {
        "id": "avarWzkifZ2I",
        "colab_type": "code",
        "colab": {}
      },
      "source": [
        "# load the model and allocate tensors\n",
        "interpreter = tf.lite.Interpreter(model_content=tflite_model)\n",
        "interpreter.allocate_tensors()\n",
        "\n",
        "# get input and output tensors\n",
        "input_details = interpreter.get_input_details()\n",
        "output_details = interpreter.get_output_details()"
      ],
      "execution_count": 0,
      "outputs": []
    },
    {
      "cell_type": "code",
      "metadata": {
        "id": "fWcxzasmgGlk",
        "colab_type": "code",
        "colab": {}
      },
      "source": [
        "# test the tflite model on random data\n",
        "input_shape = input_details[0]['shape']\n",
        "inputs, outputs = [], []\n",
        "for _ in range(100):\n",
        "  input_data = np.array(np.random.random_sample(input_shape), dtype=np.float32)\n",
        "  interpreter.set_tensor(input_details[0]['index'], input_data)\n",
        "\n",
        "  interpreter.invoke()\n",
        "  tflite_results = interpreter.get_tensor(output_details[0]['index'])\n",
        "\n",
        "  # test the tf model on random input data\n",
        "  tf_results = model(tf.constant(input_data))\n",
        "  output_data = np.array(tf_results)\n",
        "\n",
        "  inputs.append(input_data[0][0])\n",
        "  outputs.append(output_data[0][0])"
      ],
      "execution_count": 0,
      "outputs": []
    },
    {
      "cell_type": "markdown",
      "metadata": {
        "id": "jie19eN9h-B-",
        "colab_type": "text"
      },
      "source": [
        "### Visualize the model "
      ]
    },
    {
      "cell_type": "code",
      "metadata": {
        "id": "KH0bMftBh6NZ",
        "colab_type": "code",
        "colab": {
          "base_uri": "https://localhost:8080/",
          "height": 265
        },
        "outputId": "c0d6bae4-0f8c-450f-f1b5-af00ed82c369"
      },
      "source": [
        "plt.plot(inputs, outputs, 'r')\n",
        "plt.show()"
      ],
      "execution_count": 20,
      "outputs": [
        {
          "output_type": "display_data",
          "data": {
            "image/png": "[encoded data removed]",
            "text/plain": [
              "<Figure size 432x288 with 1 Axes>"
            ]
          },
          "metadata": {
            "tags": []
          }
        }
      ]
    },
    {
      "cell_type": "markdown",
      "metadata": {
        "id": "QzBzUlwtilsV",
        "colab_type": "text"
      },
      "source": [
        "### Downloading the TFLite model"
      ]
    },
    {
      "cell_type": "code",
      "metadata": {
        "id": "uUVr3aX1iKEy",
        "colab_type": "code",
        "colab": {}
      },
      "source": [
        "files.download(tflite_model_file)"
      ],
      "execution_count": 0,
      "outputs": []
    },
    {
      "cell_type": "code",
      "metadata": {
        "id": "jcSlGGTviuqm",
        "colab_type": "code",
        "colab": {}
      },
      "source": [
        ""
      ],
      "execution_count": 0,
      "outputs": []
    }
  ]
}