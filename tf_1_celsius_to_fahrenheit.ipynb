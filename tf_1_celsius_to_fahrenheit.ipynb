{
  "nbformat": 4,
  "nbformat_minor": 0,
  "metadata": {
    "colab": {
      "name": "tf_1_celsius to fahrenheit.ipynb",
      "version": "0.3.2",
      "provenance": [],
      "collapsed_sections": [],
      "include_colab_link": true
    },
    "kernelspec": {
      "name": "python3",
      "display_name": "Python 3"
    }
  },
  "cells": [
    {
      "cell_type": "markdown",
      "metadata": {
        "id": "view-in-github",
        "colab_type": "text"
      },
      "source": [
        "<a href=\"https://colab.research.google.com/github/jayeshmanani/TensorFlow/blob/master/tf_1_celsius_to_fahrenheit.ipynb\" target=\"_parent\"><img src=\"https://colab.research.google.com/assets/colab-badge.svg\" alt=\"Open In Colab\"/></a>"
      ]
    },
    {
      "cell_type": "code",
      "metadata": {
        "id": "I3uWiS84SAq5",
        "colab_type": "code",
        "colab": {}
      },
      "source": [
        "import tensorflow as tf\n",
        "tf.logging.set_verbosity(tf.logging.ERROR)\n",
        "\n",
        "import numpy as np"
      ],
      "execution_count": 0,
      "outputs": []
    },
    {
      "cell_type": "code",
      "metadata": {
        "id": "FsmlaRA3SmJu",
        "colab_type": "code",
        "colab": {}
      },
      "source": [
        "celsium_q = np.array([-40.0,-10.0,0.0,8.0,15.0,22.0,38.0], dtype=float)\n",
        "fahrenheit_q = np.array([-40.0,14.0,32.0,46.4,59.0,71.6,100.4], dtype=float)"
      ],
      "execution_count": 0,
      "outputs": []
    },
    {
      "cell_type": "markdown",
      "metadata": {
        "id": "X5WEMfN1XLuI",
        "colab_type": "text"
      },
      "source": [
        "## Single LayerModel"
      ]
    },
    {
      "cell_type": "code",
      "metadata": {
        "id": "Y2ThlmBKTQsk",
        "colab_type": "code",
        "colab": {}
      },
      "source": [
        "l0 = tf.keras.layers.Dense(units=1, input_shape=[1])"
      ],
      "execution_count": 0,
      "outputs": []
    },
    {
      "cell_type": "code",
      "metadata": {
        "id": "tXK824OJT8Vj",
        "colab_type": "code",
        "colab": {}
      },
      "source": [
        "model = tf.keras.Sequential([l0])"
      ],
      "execution_count": 0,
      "outputs": []
    },
    {
      "cell_type": "code",
      "metadata": {
        "id": "u-wbtJkfUHmy",
        "colab_type": "code",
        "colab": {}
      },
      "source": [
        "model.compile(loss='mean_squared_error',\n",
        "             optimizer=tf.keras.optimizers.Adam(0.3))"
      ],
      "execution_count": 0,
      "outputs": []
    },
    {
      "cell_type": "code",
      "metadata": {
        "id": "krp8Qb-RUhKR",
        "colab_type": "code",
        "outputId": "6de55270-acf9-40ea-b047-5a366fd68353",
        "colab": {
          "base_uri": "https://localhost:8080/",
          "height": 35
        }
      },
      "source": [
        "history = model.fit(celsium_q, fahrenheit_q, epochs=500, verbose=False)\n",
        "print(\"Finished training the model\")"
      ],
      "execution_count": 0,
      "outputs": [
        {
          "output_type": "stream",
          "text": [
            "Finished training the model\n"
          ],
          "name": "stdout"
        }
      ]
    },
    {
      "cell_type": "code",
      "metadata": {
        "id": "FHNNfVH9U_3A",
        "colab_type": "code",
        "outputId": "d2b5b0cc-da75-44ce-ebba-427e85623aac",
        "colab": {
          "base_uri": "https://localhost:8080/",
          "height": 301
        }
      },
      "source": [
        "import matplotlib.pyplot as plt\n",
        "plt.xlabel(\"Epoch Number\")\n",
        "plt.ylabel(\"Loss Magnitude\")\n",
        "plt.plot(history.history['loss'])"
      ],
      "execution_count": 0,
      "outputs": [
        {
          "output_type": "execute_result",
          "data": {
            "text/plain": [
              "[<matplotlib.lines.Line2D at 0x7ff565a5e9b0>]"
            ]
          },
          "metadata": {
            "tags": []
          },
          "execution_count": 45
        },
        {
          "output_type": "display_data",
          "data": {
            "image/png": "[encoded data removed]",
            "text/plain": [
              "<Figure size 432x288 with 1 Axes>"
            ]
          },
          "metadata": {
            "tags": []
          }
        }
      ]
    },
    {
      "cell_type": "code",
      "metadata": {
        "id": "xtBJvEcBVSu_",
        "colab_type": "code",
        "outputId": "5f9c471c-1d1e-4ed5-c0c3-14ed5e10ba34",
        "colab": {
          "base_uri": "https://localhost:8080/",
          "height": 35
        }
      },
      "source": [
        "print(model.predict([100.0000]))"
      ],
      "execution_count": 0,
      "outputs": [
        {
          "output_type": "stream",
          "text": [
            "[[212.]]\n"
          ],
          "name": "stdout"
        }
      ]
    },
    {
      "cell_type": "code",
      "metadata": {
        "id": "Rx2i94lMVkvN",
        "colab_type": "code",
        "outputId": "707ac535-d81c-435a-c92b-b2abe5d6f997",
        "colab": {
          "base_uri": "https://localhost:8080/",
          "height": 55
        }
      },
      "source": [
        "print(\"These are the layer variables: {}\".format(l0.get_weights()))"
      ],
      "execution_count": 0,
      "outputs": [
        {
          "output_type": "stream",
          "text": [
            "These are the layer variables: [array([[1.8]], dtype=float32), array([32.], dtype=float32)]\n"
          ],
          "name": "stdout"
        }
      ]
    },
    {
      "cell_type": "code",
      "metadata": {
        "id": "nTjxSF_3W8_O",
        "colab_type": "code",
        "colab": {}
      },
      "source": [
        ""
      ],
      "execution_count": 0,
      "outputs": []
    },
    {
      "cell_type": "markdown",
      "metadata": {
        "id": "HfqvT14vXPte",
        "colab_type": "text"
      },
      "source": [
        "## 3 Layer Model"
      ]
    },
    {
      "cell_type": "code",
      "metadata": {
        "id": "rlVtbxfFXS1U",
        "colab_type": "code",
        "outputId": "af076b6e-c06a-4270-b066-ffdc745aaf92",
        "colab": {
          "base_uri": "https://localhost:8080/",
          "height": 280
        }
      },
      "source": [
        "l1 = tf.keras.layers.Dense(units=4, input_shape=[1])\n",
        "l2 = tf.keras.layers.Dense(units=4)\n",
        "l3 = tf.keras.layers.Dense(units=1)\n",
        "\n",
        "model = tf.keras.Sequential([l1,l2,l3])\n",
        "model.compile(loss='mean_squared_error', optimizer=tf.keras.optimizers.Adam(0.1))\n",
        "model.fit(celsium_q, fahrenheit_q, epochs=500, verbose=False)\n",
        "print(\"Finished training of the Model\")\n",
        "print(model.predict([100.0]))\n",
        "print(\"Model predicts that 100 degree Celsius is : {} degree Fahrenheit\".format(model.predict([100.0])))\n",
        "print(\"These are the l1 variables: {}\".format(l1.get_weights()))\n",
        "print(\"These are the l2 variables: {}\".format(l2.get_weights()))\n",
        "print(\"These are the l3 variables: {}\".format(l3.get_weights()))"
      ],
      "execution_count": 0,
      "outputs": [
        {
          "output_type": "stream",
          "text": [
            "Finished training of the Model\n",
            "[[212.]]\n",
            "Model predicts that 100 degree Celsius is : [[212.]] degree Fahrenheit\n",
            "These are the l1 variables: [array([[-0.5606414 , -0.25044164,  0.21010646,  0.49319592]],\n",
            "      dtype=float32), array([-3.092164  ,  2.8874638 , -0.38837254,  2.830701  ], dtype=float32)]\n",
            "These are the l2 variables: [array([[ 0.04774629,  0.38177854, -0.05578193, -1.3202435 ],\n",
            "       [-0.1720474 , -0.25816196,  0.17351778,  1.5044332 ],\n",
            "       [-0.72054106, -0.15649836, -1.3740326 , -0.3441496 ],\n",
            "       [ 0.8379123 , -0.7430429 ,  0.9134536 ,  1.2864759 ]],\n",
            "      dtype=float32), array([-0.6385092, -2.4869504, -0.5877181,  3.2794292], dtype=float32)]\n",
            "These are the l3 variables: [array([[-0.1016868 ],\n",
            "       [-0.56693697],\n",
            "       [-0.01286768],\n",
            "       [ 1.641246  ]], dtype=float32), array([3.1122642], dtype=float32)]\n"
          ],
          "name": "stdout"
        }
      ]
    },
    {
      "cell_type": "code",
      "metadata": {
        "id": "2NkZs2QGYygc",
        "colab_type": "code",
        "colab": {}
      },
      "source": [
        ""
      ],
      "execution_count": 0,
      "outputs": []
    }
  ]
}